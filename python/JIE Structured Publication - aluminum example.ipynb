{
 "cells": [
  {
   "cell_type": "markdown",
   "metadata": {
    "deletable": true,
    "editable": true
   },
   "source": [
    "# Structured Publication of Life Cycle Assessment Models\n",
    "## Example using US LCI\n",
    "### Brandon Kuczenski\n",
    "\n",
    "Last update 11/16/2017\n",
    "\n",
    "This document accompanies a paper under submission to the _Journal of Industrial Ecology_.  The notebook describes how to reproduce the \"secondary aluminum\" example described in the manuscript, and illustrates how a set of free tools by the author can be used to generate structured publications of any other product system in the US LCI database as well.\n",
    "\n",
    "The example derived from Ecoinvent can also be easily reproduced; however, it requires an Ecoinvent license.  \n",
    "\n",
    "To reproduce the example, you must locally install three repositories from http://github.com, all of which use Python 3.  Support for python 2 is not provided.  \n",
    "\n",
    "To begin, first ensure you have a functional python 3 environment: at a command line enter `python --version`. This code has been tested on Python 3.6.0:\n",
    "\n",
    "    $ python --version\n",
    "    Python 3.6.0\n",
    "    \n",
    "You also need a package installer; I use `pip`:\n",
    "\n",
    "    $ pip --version\n",
    "    pip 9.0.1 from /usr/lib/python3.6/site-packages (python 3.6)\n",
    "\n",
    "(if your pip is out of date, try `pip install --upgrade pip`)\n",
    "\n",
    "After that, procure the following three repositories from Github:\n",
    "\n",
    "    git clone git@github.com:bkuczenski/lca-tools.git\n",
    "    git clone git@github.com:bkuczenski/lca-matrix.git\n",
    "    git clone git@github.com:bkuczenski/lca-tools-datafiles.git\n",
    "    \n",
    "Within `lca-tools` and `lca-matrix` it is necessary to select the `streamline` branch because it contains the most current work:\n",
    "\n",
    "    cd lca-tools\n",
    "    git checkout streamline\n",
    "    cd ../lca-matrix\n",
    "    git checkout streamline\n",
    "\n",
    "Next, prepare your python environment.  I recommend creating a new `virtualenv` for your work, but this is not required (note changes as appropriate for your environment):\n",
    "\n",
    "    mkvirtualenv -p /usr/bin/python3 bk-JIE\n",
    "\n",
    "Please install the following packages:\n",
    "\n",
    " * `eight` -- for some early attempts at backward compatibility \n",
    " * `xlrd` -- read Excel files\n",
    " * `xlwt` -- write Excel files\n",
    " * `lxml` -- handle XML\n",
    " * `pylzma` -- read 7zip files (commonly used by ecoinvent; ~5x better compression than zip)\n",
    " * `scipy` -- for sparse matrices -- may require other (non-python) components\n",
    " * `matplotlib` -- for plotting data\n",
    "\n",
    "You should also ensure that you have `ipython` and `jupyter`, both of which can be installed with `pip` if they are not already on your system.  After that you are ready to go! \n",
    "\n",
    "    ipython\n",
    "    "
   ]
  },
  {
   "cell_type": "markdown",
   "metadata": {
    "deletable": true,
    "editable": true
   },
   "source": [
    "#### Environment config"
   ]
  },
  {
   "cell_type": "code",
   "execution_count": 7,
   "metadata": {
    "collapsed": false,
    "deletable": true,
    "editable": true
   },
   "outputs": [],
   "source": [
    "import os\n",
    "import sys\n",
    "GITHUB_PATH = '/data/GitHub/'  # customize for your environment\n",
    "PUBLISH_PATH = '/data/GitHub/2017/Publication-JIE/examples'\n",
    "sys.path.append(os.path.join(GITHUB_PATH, 'lca-tools'))\n",
    "sys.path.append(os.path.join(GITHUB_PATH, 'lca-matrix'))\n",
    "\n",
    "import lcatools\n",
    "import lcamatrix\n"
   ]
  },
  {
   "cell_type": "markdown",
   "metadata": {
    "deletable": true,
    "editable": true
   },
   "source": [
    "#### Identify the data files"
   ]
  },
  {
   "cell_type": "code",
   "execution_count": 10,
   "metadata": {
    "collapsed": true,
    "deletable": true,
    "editable": true
   },
   "outputs": [],
   "source": [
    "CATALOG = os.path.join(GITHUB_PATH, 'lca-tools-datafiles/catalogs')\n",
    "\n",
    "USLCI = 'uslci_clean.json.gz'\n",
    "EI_LCIA = 'ei_lcia.json.gz'"
   ]
  },
  {
   "cell_type": "code",
   "execution_count": 11,
   "metadata": {
    "collapsed": false,
    "deletable": true,
    "editable": true
   },
   "outputs": [
    {
     "name": "stdout",
     "output_type": "stream",
     "text": [
      "Loading JSON data from /data/GitHub/lca-tools-datafiles/catalogs/uslci_clean.json.gz:\n",
      "Found Extension: zip\n",
      "701 new process entities added (701 total)\n",
      "4176 new flow entities added (4176 total)\n",
      "20 new quantity entities added (20 total)\n"
     ]
    }
   ],
   "source": [
    "US = lcatools.archive_from_json(os.path.join(CATALOG, USLCI))"
   ]
  },
  {
   "cell_type": "markdown",
   "metadata": {
    "deletable": true,
    "editable": true
   },
   "source": [
    "For now, the technology matrix only works with allocated single-output processes, but USLCI contains many multi-output processes.  Here we introduce allocations.  The allocation factors can be modified by editing the `uslci.py` file in the `lca-matrix` repository."
   ]
  },
  {
   "cell_type": "code",
   "execution_count": 12,
   "metadata": {
    "collapsed": true,
    "deletable": true,
    "editable": true
   },
   "outputs": [],
   "source": [
    "from lcamatrix.uslci import uslci_allocations, uslci_flow_characterizations\n",
    "from lcamatrix.catalog import apply_allocation, apply_flow_config"
   ]
  },
  {
   "cell_type": "code",
   "execution_count": 13,
   "metadata": {
    "collapsed": true,
    "deletable": true,
    "editable": true
   },
   "outputs": [],
   "source": [
    "apply_flow_config(US, uslci_flow_characterizations)\n",
    "apply_allocation(US, uslci_allocations)"
   ]
  },
  {
   "cell_type": "markdown",
   "metadata": {
    "deletable": true,
    "editable": true
   },
   "source": [
    "### Prepare the Flow Database -- for LCIA"
   ]
  },
  {
   "cell_type": "code",
   "execution_count": 19,
   "metadata": {
    "collapsed": true,
    "deletable": true,
    "editable": true
   },
   "outputs": [],
   "source": [
    "from lcatools.flowdb.flowdb import FlowDB\n",
    "db = FlowDB()"
   ]
  },
  {
   "cell_type": "markdown",
   "metadata": {
    "deletable": true,
    "editable": true
   },
   "source": [
    "The Flow Database stores collections of _flowables_, which are substances (mainly distinguished by CAS number) and _quantities_, which include both physical quantities and LCIA characterization quantities.  For a given quantity, each flowable can be characterized with respect to a particular _compartment_.  Compartment names are pre-harmonized with USLCI, Ecoinvent, ILCD, and GaBi.  \n",
    "\n",
    "The flow database starts out empty and gets populated with data by the user.  Each flow is parsed into a flowable and a compartment, and then that flow's characterizations are added to the database.  A flow's identity is detected by comparing its CAS number, UUID, and name to a giant list of about 6,000,000 synonyms (drawn from ILCD and Ecoinvent) to map it to one of about 7,400 known flowables.  The synonym list needs some work, but it's serviceable."
   ]
  },
  {
   "cell_type": "code",
   "execution_count": 22,
   "metadata": {
    "collapsed": false,
    "deletable": true,
    "editable": true
   },
   "outputs": [
    {
     "name": "stdout",
     "output_type": "stream",
     "text": [
      "Loading JSON data from /data/GitHub/lca-tools-datafiles/catalogs/ei_lcia.json.gz:\n",
      "**Upstream reference encountered: /data/LCI/Ecoinvent/3.2/cutoff\n",
      "\n",
      "0 new process entities added (0 total)\n",
      "3255 new flow entities added (3255 total)\n",
      "708 new quantity entities added (708 total)\n"
     ]
    }
   ],
   "source": [
    "EL = lcatools.archive_from_json(os.path.join(CATALOG, EI_LCIA))"
   ]
  },
  {
   "cell_type": "markdown",
   "metadata": {
    "deletable": true,
    "editable": true
   },
   "source": [
    "The `import_archive_cfs` function returns a list of flows that were not found among the synonyms; for now we are ignoring them."
   ]
  },
  {
   "cell_type": "code",
   "execution_count": 23,
   "metadata": {
    "collapsed": true,
    "deletable": true,
    "editable": true
   },
   "outputs": [],
   "source": [
    "_ = db.import_archive_cfs(EL)"
   ]
  },
  {
   "cell_type": "markdown",
   "metadata": {
    "deletable": true,
    "editable": true
   },
   "source": [
    "At this point the flow database has been populated with the characterization factors for all 700 LCIA methods that are part of Ecoinvent's LCIA implementation."
   ]
  },
  {
   "cell_type": "markdown",
   "metadata": {
    "deletable": true,
    "editable": true
   },
   "source": [
    "### Prepare the background LCI Database"
   ]
  },
  {
   "cell_type": "code",
   "execution_count": 14,
   "metadata": {
    "collapsed": true,
    "deletable": true,
    "editable": true
   },
   "outputs": [],
   "source": [
    "from lcamatrix.background import BackgroundManager"
   ]
  },
  {
   "cell_type": "markdown",
   "metadata": {
    "deletable": true,
    "editable": true
   },
   "source": [
    "The background manager performs a partial ordering of the database, identifying foreground, background, and cutoff flows."
   ]
  },
  {
   "cell_type": "code",
   "execution_count": 15,
   "metadata": {
    "collapsed": false,
    "deletable": true,
    "editable": true
   },
   "outputs": [
    {
     "name": "stdout",
     "output_type": "stream",
     "text": [
      "self-dependency detected! Paper, freesheet, uncoated, average production, at mill, 2006 [RNA]\n"
     ]
    }
   ],
   "source": [
    "B = BackgroundManager(US)\n",
    "B.add_all_ref_products()"
   ]
  },
  {
   "cell_type": "markdown",
   "metadata": {
    "deletable": true,
    "editable": true
   },
   "source": [
    "Outputs are product flows in the foreground that are not required by any other process in the database."
   ]
  },
  {
   "cell_type": "code",
   "execution_count": 17,
   "metadata": {
    "collapsed": false,
    "deletable": true,
    "editable": true
   },
   "outputs": [
    {
     "data": {
      "text/plain": [
       "True"
      ]
     },
     "execution_count": 17,
     "metadata": {},
     "output_type": "execute_result"
    }
   ],
   "source": [
    "outputs = [k for k in B.product_flows()]\n",
    "len(outputs) == 395"
   ]
  },
  {
   "cell_type": "markdown",
   "metadata": {
    "deletable": true,
    "editable": true
   },
   "source": [
    "Here I am identifying product systems that contain more than one foreground node."
   ]
  },
  {
   "cell_type": "code",
   "execution_count": 18,
   "metadata": {
    "collapsed": false,
    "deletable": true,
    "editable": true
   },
   "outputs": [
    {
     "data": {
      "text/plain": [
       "True"
      ]
     },
     "execution_count": 18,
     "metadata": {},
     "output_type": "execute_result"
    }
   ],
   "source": [
    "product_systems = [h for h in outputs if len(B.foreground(h)) > 1]\n",
    "len(product_systems) == 103"
   ]
  },
  {
   "cell_type": "markdown",
   "metadata": {
    "deletable": true,
    "editable": true
   },
   "source": [
    "### Pick our product system"
   ]
  },
  {
   "cell_type": "code",
   "execution_count": 54,
   "metadata": {
    "collapsed": false,
    "deletable": true,
    "editable": true
   },
   "outputs": [
    {
     "name": "stdout",
     "output_type": "stream",
     "text": [
      " 0:  Aluminum, secondary, rolled [RNA]\n",
      " 1:  Aluminum, secondary, shape casted [RNA]\n",
      " 2:  Semi-permanent mold (SPM) casting, aluminum [RNA]\n",
      " 3:  Aluminum, secondary, ingot, at plant, 1998 [RNA]\n",
      " 4:  Aluminum, extrusion, at plant [RNA]\n",
      " 5:  Precision sand casting, aluminum [RNA]\n",
      " 6:  Aluminum, secondary, ingot, from automotive scrap, at plant [RNA]\n",
      " 7:  Aluminum, hot rolling, at plant [RNA]\n",
      " 8:  Aluminum, secondary, extruded [RNA]\n",
      " 9:  Aluminum, secondary, ingot, from beverage cans, at plant [RNA]\n",
      "10:  Lost foam casting, aluminum [RNA]\n",
      "11:  Aluminum, primary, ingot, at plant, 1998 [RNA]\n",
      "12:  Aluminum, cold rolling, at plant [RNA]\n"
     ]
    }
   ],
   "source": [
    "al = [p for p in B.product_flows('aluminum')]\n",
    "for i, ps in enumerate(al):\n",
    "    print('%2d:  %s' % (i, ps.process))"
   ]
  },
  {
   "cell_type": "code",
   "execution_count": 28,
   "metadata": {
    "collapsed": true,
    "deletable": true,
    "editable": true
   },
   "outputs": [],
   "source": [
    "my_ps = al[6]  # this is the product system used in the JIE paper as an example"
   ]
  },
  {
   "cell_type": "markdown",
   "metadata": {
    "deletable": true,
    "editable": true
   },
   "source": [
    "#### Inspect our product system."
   ]
  },
  {
   "cell_type": "code",
   "execution_count": 29,
   "metadata": {
    "collapsed": true,
    "deletable": true,
    "editable": true
   },
   "outputs": [],
   "source": [
    "from lcamatrix.foreground import ForegroundFragment\n",
    "from lcamatrix.foreground_publication import ForegroundPublication\n",
    "from lcamatrix.foreground_table import ForegroundTeX"
   ]
  },
  {
   "cell_type": "code",
   "execution_count": 30,
   "metadata": {
    "collapsed": false,
    "deletable": true,
    "editable": true
   },
   "outputs": [
    {
     "name": "stdout",
     "output_type": "stream",
     "text": [
      "Fragment with 4 foreground flows\n",
      " Ad: 39x4, 17 nonzero\n",
      " Bf: 3427x4, 26 nonzero\n"
     ]
    }
   ],
   "source": [
    "frag = ForegroundFragment(B, db, my_ps)"
   ]
  },
  {
   "cell_type": "code",
   "execution_count": 31,
   "metadata": {
    "collapsed": false,
    "deletable": true,
    "editable": true
   },
   "outputs": [
    {
     "data": {
      "text/plain": [
       "<4x4 sparse matrix of type '<class 'numpy.float64'>'\n",
       "\twith 3 stored elements in Compressed Sparse Row format>"
      ]
     },
     "execution_count": 31,
     "metadata": {},
     "output_type": "execute_result"
    }
   ],
   "source": [
    "frag.Af"
   ]
  },
  {
   "cell_type": "code",
   "execution_count": 32,
   "metadata": {
    "collapsed": false,
    "deletable": true,
    "editable": true
   },
   "outputs": [
    {
     "data": {
      "text/plain": [
       "matrix([[  0.00000000e+00,   0.00000000e+00,   0.00000000e+00,\n",
       "           0.00000000e+00],\n",
       "        [  1.03200000e+00,   0.00000000e+00,   0.00000000e+00,\n",
       "           0.00000000e+00],\n",
       "        [  2.35000000e-05,   0.00000000e+00,   0.00000000e+00,\n",
       "           0.00000000e+00],\n",
       "        [  0.00000000e+00,   0.00000000e+00,   1.87000000e+00,\n",
       "           0.00000000e+00]])"
      ]
     },
     "execution_count": 32,
     "metadata": {},
     "output_type": "execute_result"
    }
   ],
   "source": [
    "frag.Af.todense()"
   ]
  },
  {
   "cell_type": "markdown",
   "metadata": {
    "deletable": true,
    "editable": true
   },
   "source": [
    "The `DisplayFragment` class uses `pandas` to print the foreground data in nice tables; take a look at it if you are interested.  For now, let's just generate our outputs."
   ]
  },
  {
   "cell_type": "markdown",
   "metadata": {
    "deletable": true,
    "editable": true
   },
   "source": [
    "#### Characterize the product system with respect to Ecoinvent TRACI"
   ]
  },
  {
   "cell_type": "code",
   "execution_count": 33,
   "metadata": {
    "collapsed": false,
    "deletable": true,
    "editable": true
   },
   "outputs": [
    {
     "data": {
      "text/plain": [
       "['TRACI, human health, carcinogenics [kg benzene-Eq] [LCIA]',\n",
       " 'TRACI, environmental impact, ecotoxicity [kg 2,4-D-Eq] [LCIA]',\n",
       " 'TRACI, environmental impact, ozone depletion [kg CFC-11-Eq] [LCIA]',\n",
       " 'TRACI, environmental impact, acidification [moles of H+-Eq] [LCIA]',\n",
       " 'TRACI, environmental impact, global warming [kg CO2-Eq] [LCIA]',\n",
       " 'TRACI, human health, respiratory effects, average [kg PM2.5-Eq] [LCIA]',\n",
       " 'TRACI, environmental impact, photochemical oxidation [kg NOx-Eq] [LCIA]',\n",
       " 'TRACI, environmental impact, eutrophication [kg N] [LCIA]',\n",
       " 'TRACI, human health, non-carcinogenics [kg toluene-Eq] [LCIA]']"
      ]
     },
     "execution_count": 33,
     "metadata": {},
     "output_type": "execute_result"
    }
   ],
   "source": [
    "qs_traci = EL.search(entity_type='quantity', Method='traci')\n",
    "[str(q) for q in qs_traci]"
   ]
  },
  {
   "cell_type": "markdown",
   "metadata": {
    "deletable": true,
    "editable": true
   },
   "source": [
    "Because of the way the Flow Database works, it is possible to make approximate matches for flows whose characteristics don't correspond exactly.  If there are multiple possible characterizations, the user must specify which ones to use.  \n",
    "\n",
    "The user gets prompted to make this decision when the product system is characterized.  In this case, the user must decide whether the flow \"glyphosate [soil, unspecified]\" should be characterized as an emission to agricultural or industrial soil.\n",
    "\n"
   ]
  },
  {
   "cell_type": "code",
   "execution_count": 35,
   "metadata": {
    "collapsed": false,
    "deletable": true,
    "editable": true
   },
   "outputs": [
    {
     "name": "stdout",
     "output_type": "stream",
     "text": [
      "Multiple CFs found: [1.0558e-06, 7.8959e-06]\n",
      "Flow: Glyphosate [unspecified] [kg]\n",
      "Quantity: TRACI, human health, carcinogenics [kg benzene-Eq] [LCIA]\n",
      "Pick characterization to apply\n",
      "\n",
      "Select item: \n",
      "\n",
      "Choice Item\n",
      "====== ======================================================================\n",
      " [0]      7.9e-06 [GLO] [kg benzene-Eq] Glyphosate (CAS 001071-83-6) [industrial]\n",
      " [1]     1.06e-06 [GLO] [kg benzene-Eq] Glyphosate (CAS 001071-83-6) [agricultural]\n",
      "------ ----------------------------------------------------------------------\n",
      "Enter choice (or \"None\"): 0\n",
      "Multiple CFs found: [0.27015, 0.24539]\n",
      "Flow: Glyphosate [unspecified] [kg]\n",
      "Quantity: TRACI, environmental impact, ecotoxicity [kg 2,4-D-Eq] [LCIA]\n",
      "Pick characterization to apply\n",
      "\n",
      "Select item: \n",
      "\n",
      "Choice Item\n",
      "====== ======================================================================\n",
      " [0]         0.27 [GLO] [kg 2,4-D-Eq] Glyphosate (CAS 001071-83-6) [agricultural]\n",
      " [1]        0.245 [GLO] [kg 2,4-D-Eq] Glyphosate (CAS 001071-83-6) [industrial]\n",
      "------ ----------------------------------------------------------------------\n",
      "Enter choice (or \"None\"): 1\n",
      "Multiple CFs found: [0.0087974, 0.033012]\n",
      "Flow: Glyphosate [unspecified] [kg]\n",
      "Quantity: TRACI, human health, non-carcinogenics [kg toluene-Eq] [LCIA]\n",
      "Pick characterization to apply\n",
      "\n",
      "Select item: \n",
      "\n",
      "Choice Item\n",
      "====== ======================================================================\n",
      " [0]        0.033 [GLO] [kg toluene-Eq] Glyphosate (CAS 001071-83-6) [industrial]\n",
      " [1]       0.0088 [GLO] [kg toluene-Eq] Glyphosate (CAS 001071-83-6) [agricultural]\n",
      "------ ----------------------------------------------------------------------\n",
      "Enter choice (or \"None\"): 0\n"
     ]
    }
   ],
   "source": [
    "for q in qs_traci:\n",
    "    frag.characterize(q)"
   ]
  },
  {
   "cell_type": "code",
   "execution_count": 36,
   "metadata": {
    "collapsed": false,
    "deletable": true,
    "editable": true
   },
   "outputs": [
    {
     "data": {
      "text/plain": [
       "matrix([[  1.25787600e-05],\n",
       "        [  3.10154400e-07],\n",
       "        [  0.00000000e+00],\n",
       "        [  1.79034750e-07],\n",
       "        [  1.80480000e-05],\n",
       "        [  8.49912750e-10],\n",
       "        [  0.00000000e+00],\n",
       "        [  4.15675000e-08],\n",
       "        [  4.69519200e-01]])"
      ]
     },
     "execution_count": 36,
     "metadata": {},
     "output_type": "execute_result"
    }
   ],
   "source": [
    "frag.fg_lcia()  # foreground LCIA results"
   ]
  },
  {
   "cell_type": "code",
   "execution_count": 38,
   "metadata": {
    "collapsed": false,
    "deletable": true,
    "editable": true
   },
   "outputs": [
    {
     "data": {
      "text/plain": [
       "matrix([[  4.20592170e-04],\n",
       "        [  2.71670005e-02],\n",
       "        [  5.57925193e-12],\n",
       "        [  2.51700469e-01],\n",
       "        [  1.07362785e+00],\n",
       "        [  8.77619877e-04],\n",
       "        [  2.56952813e-03],\n",
       "        [  9.13285980e-05],\n",
       "        [  1.06014598e+00]])"
      ]
     },
     "execution_count": 38,
     "metadata": {},
     "output_type": "execute_result"
    }
   ],
   "source": [
    "frag.bg_lcia().todense()  # background LCIA results"
   ]
  },
  {
   "cell_type": "code",
   "execution_count": 42,
   "metadata": {
    "collapsed": false,
    "deletable": true,
    "editable": true
   },
   "outputs": [
    {
     "name": "stdout",
     "output_type": "stream",
     "text": [
      "completed 20 iterations\n",
      "LCIA Results\n",
      "Aluminum, secondary, ingot, from automotive scrap, at plant [RNA]:==Aluminum, secondary, ingot, from automotive scrap, at plant [Other Aluminum Rolling and Drawing]\n",
      "------------------------------------------------------------\n",
      "[ 0] 025  0.00043317 TRACI, human health, carcinogenics [kg benzene-Eq] [LCIA]\n",
      "[ 1] 118    0.027167 TRACI, environmental impact, ecotoxicity [kg 2,4-D-Eq] [LCIA]\n",
      "[ 2] 1cb  5.5793e-12 TRACI, environmental impact, ozone depletion [kg CFC-11-Eq] [LCIA]\n",
      "[ 3] 44f      0.2517 TRACI, environmental impact, acidification [moles of H+-Eq] [LCIA]\n",
      "[ 4] 5f9      1.0736 TRACI, environmental impact, global warming [kg CO2-Eq] [LCIA]\n",
      "[ 5] 780  0.00087762 TRACI, human health, respiratory effects, average [kg PM2.5-Eq] [LCIA]\n",
      "[ 6] 9b8   0.0025695 TRACI, environmental impact, photochemical oxidation [kg NOx-Eq] [LCIA]\n",
      "[ 7] c58   9.137e-05 TRACI, environmental impact, eutrophication [kg N] [LCIA]\n",
      "[ 8] d93      1.5297 TRACI, human health, non-carcinogenics [kg toluene-Eq] [LCIA]\n"
     ]
    }
   ],
   "source": [
    "res = frag.lcia_results()\n",
    "res.show()  # more comprehensive results"
   ]
  },
  {
   "cell_type": "code",
   "execution_count": 43,
   "metadata": {
    "collapsed": false,
    "deletable": true,
    "editable": true
   },
   "outputs": [
    {
     "name": "stdout",
     "output_type": "stream",
     "text": [
      "TRACI, environmental impact, acidification [moles of H+-Eq] [LCIA] moles of H+-Eq\n",
      "------------------------------------------------------------\n",
      "   0.00307 x       50.8 =      0.156 [GLO] Sulfur dioxide  [unspecified]\n",
      "     0.002 x         40 =       0.08 [GLO] Nitrogen oxides  [unspecified]\n",
      "  0.000186 x       50.8 =    0.00945 [GLO] Sulfur oxides [unspecified]\n",
      "   0.00011 x       44.7 =    0.00491 [GLO] Hydrogen Chloride [unspecified]\n",
      "  1.37e-05 x       81.3 =    0.00111 [GLO] Hydrogen fluoride [unspecified]\n",
      "  8.83e-07 x       95.5 =   8.43e-05 [GLO] Ammonia  [unspecified]\n",
      "============================================================\n",
      "             Total score: 0.251701 \n",
      "     0.252 TRACI, environmental impact, acidification [moles of H+-Eq] [LCIA]\n"
     ]
    }
   ],
   "source": [
    "res['44f'].show_details()  # select an LCIA method by the leading portion of its UUID "
   ]
  },
  {
   "cell_type": "markdown",
   "metadata": {
    "deletable": true,
    "editable": true
   },
   "source": [
    "At this time, the background manager does not automatically perform contribution analysis over the fragment, but that is easy to do from the publication."
   ]
  },
  {
   "cell_type": "markdown",
   "metadata": {
    "deletable": true,
    "editable": true
   },
   "source": [
    "### Publish our foreground model"
   ]
  },
  {
   "cell_type": "code",
   "execution_count": 47,
   "metadata": {
    "collapsed": false,
    "deletable": true,
    "editable": true
   },
   "outputs": [],
   "source": [
    "# TeX table\n",
    "t = ForegroundTeX(frag)\n",
    "with open(os.path.join(PUBLISH_PATH, 'aluminum-secondary_doco.tex'), 'w') as fp:\n",
    "    fp.write(t.foreground_table(aggregate=True))\n",
    "    "
   ]
  },
  {
   "cell_type": "code",
   "execution_count": 49,
   "metadata": {
    "collapsed": false,
    "deletable": true,
    "editable": true
   },
   "outputs": [
    {
     "name": "stdout",
     "output_type": "stream",
     "text": [
      "completed 20 iterations\n",
      "AD01\n",
      "completed 20 iterations\n",
      "AD04\n",
      "completed 21 iterations\n",
      "AD13\n",
      "completed 20 iterations\n",
      "AD18\n",
      "completed 19 iterations\n",
      "AD20\n",
      "completed 20 iterations\n",
      "AD24\n",
      "completed 20 iterations\n",
      "AD30\n",
      "completed 20 iterations\n",
      "AD33\n",
      "completed 20 iterations\n",
      "AD34\n"
     ]
    }
   ],
   "source": [
    "# XLS spreadsheet\n",
    "pub = ForegroundPublication(frag, audit_cf=False)  # enter audit_cf=True to see all characterization factors\n",
    "pub.publish(os.path.join(PUBLISH_PATH, 'aluminum-secondary_doco.xls'), \n",
    "            full=False)  # full=True for non-sparse matrices"
   ]
  }
 ],
 "metadata": {
  "kernelspec": {
   "display_name": "Python 3",
   "language": "python",
   "name": "python3"
  },
  "language_info": {
   "codemirror_mode": {
    "name": "ipython",
    "version": 3
   },
   "file_extension": ".py",
   "mimetype": "text/x-python",
   "name": "python",
   "nbconvert_exporter": "python",
   "pygments_lexer": "ipython3",
   "version": "3.6.2"
  }
 },
 "nbformat": 4,
 "nbformat_minor": 2
}
