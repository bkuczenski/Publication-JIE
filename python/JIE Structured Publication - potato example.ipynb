{
 "cells": [
  {
   "cell_type": "markdown",
   "metadata": {},
   "source": [
    "# Structured Publication of Life Cycle Assessment Models\n",
    "## Example using Ecoinvent\n",
    "### Brandon Kuczenski\n",
    "\n",
    "Last update 3/31/2017\n",
    "\n",
    "Please see the other notebook for more documentary information. \n",
    "\n",
    "Note that the ecoinvent database is subject to licensing restrictions and cannot be distributed as part of the `lca-tools-datafiles` repository.  Therefore, this example will not work unless the user has access to the Ecoinvent data files."
   ]
  },
  {
   "cell_type": "code",
   "execution_count": null,
   "metadata": {
    "collapsed": true
   },
   "outputs": [],
   "source": [
    "import sys\n",
    "import os\n",
    "\n",
    "GITHUB_PATH = '/data/GitHub/'  # customize for your environment\n",
    "PUBLISH_PATH = '/data/GitHub/2017/Publication-JIE/examples'\n",
    "\n",
    "sys.path.append(os.path.join(GITHUB_PATH, 'lca-tools'))\n",
    "sys.path.append(os.path.join(GITHUB_PATH, 'lca-matrix'))\n",
    "\n",
    "import lcatools\n",
    "import lcamatrix"
   ]
  },
  {
   "cell_type": "code",
   "execution_count": null,
   "metadata": {
    "collapsed": true
   },
   "outputs": [],
   "source": [
    "CATALOG = os.path.join(GITHUB_PATH, 'lca-tools-datafiles/catalogs/')\n",
    "\n",
    "EI32_A = 'ecoinvent_3.2_apos_spold.json.gz' \n",
    "ELCD_LCIA = 'elcd_lcia_all.json.gz'\n",
    "EI_LCIA = 'ei_lcia.json.gz'"
   ]
  },
  {
   "cell_type": "markdown",
   "metadata": {},
   "source": [
    "### Flow Database"
   ]
  },
  {
   "cell_type": "code",
   "execution_count": null,
   "metadata": {
    "collapsed": false
   },
   "outputs": [],
   "source": [
    "LCIA = lcatools.archive_from_json(os.path.join(CATALOG, ELCD_LCIA))\n",
    "EI_LCIA = lcatools.archive_from_json(os.path.join(CATALOG, EI_LCIA))\n",
    "from lcatools.flowdb.flowdb import FlowDB\n",
    "db = FlowDB()\n",
    "_ = db.import_archive_cfs(LCIA)\n",
    "_ = db.import_archive_cfs(EI_LCIA)"
   ]
  },
  {
   "cell_type": "markdown",
   "metadata": {},
   "source": [
    "### LCI Background Database"
   ]
  },
  {
   "cell_type": "code",
   "execution_count": null,
   "metadata": {
    "collapsed": false
   },
   "outputs": [],
   "source": [
    "if os.path.exists(os.path.join(CATALOG, EI32_A)):\n",
    "    # this takes about 13 seconds\n",
    "    EA = lcatools.archive_from_json(os.path.join(CATALOG, EI32_A))\n",
    "else:\n",
    "    from lcatools.providers.ecospold2 import EcospoldV2Archive\n",
    "    EA = EcospoldV2Archive('/data/LCI/Ecoinvent/3.2/current_Version_3.2_apos_ecoSpold02.zip', prefix='datasets')\n",
    "    # this takes about 2 minutes:\n",
    "    EA.load_all()\n",
    "    # Once you have loaded the data from the ecoinvent source datafiles, save it in JSON format for easy retrieval.\n",
    "    EA.write_to_file(os.path.join(CATALOG, EI32_A), exchanges=True, values=True, characterizations=True, gzip=True)"
   ]
  },
  {
   "cell_type": "code",
   "execution_count": null,
   "metadata": {
    "collapsed": false
   },
   "outputs": [],
   "source": [
    "from lcamatrix.background import BackgroundManager\n",
    "B = BackgroundManager(EA)\n",
    "B.add_all_ref_products()  # this takes about 15 seconds"
   ]
  },
  {
   "cell_type": "code",
   "execution_count": null,
   "metadata": {
    "collapsed": false
   },
   "outputs": [],
   "source": [
    "outputs = [f for f in B.product_flows()]\n",
    "len(outputs) == 959  # like my unit test?"
   ]
  },
  {
   "cell_type": "markdown",
   "metadata": {},
   "source": [
    "### Paper Example"
   ]
  },
  {
   "cell_type": "code",
   "execution_count": null,
   "metadata": {
    "collapsed": true
   },
   "outputs": [],
   "source": [
    "from lcamatrix.foreground import ForegroundFragment\n",
    "from lcamatrix.foreground_table import ForegroundTeX\n",
    "from lcamatrix.foreground_publication import ForegroundPublication"
   ]
  },
  {
   "cell_type": "code",
   "execution_count": null,
   "metadata": {
    "collapsed": false
   },
   "outputs": [],
   "source": [
    "my_qs = EI_LCIA.search(entity_type='quantity', Category=('eutrophication', 'marine'), Method='Midpoint')\n",
    "my_qs.extend(LCIA.search(entity_type='quantity', Name=('eutrophication', 'marine')))\n",
    "[str(q) for q in my_qs]"
   ]
  },
  {
   "cell_type": "code",
   "execution_count": null,
   "metadata": {
    "collapsed": false
   },
   "outputs": [],
   "source": [
    "pf = next(B.product_flows('potato'))\n",
    "f = ForegroundFragment(B, db, pf)\n",
    "for q in my_qs:\n",
    "    f.characterize(q)\n"
   ]
  },
  {
   "cell_type": "code",
   "execution_count": null,
   "metadata": {
    "collapsed": true
   },
   "outputs": [],
   "source": [
    "# TeX table\n",
    "t = ForegroundTeX(f, max_cols=9)\n",
    "with open(os.path.join(PUBLISH_PATH, 'potato-organic_doco.tex'), 'w') as fp:\n",
    "    fp.write(t.foreground_table(aggregate=True))"
   ]
  },
  {
   "cell_type": "code",
   "execution_count": null,
   "metadata": {
    "collapsed": false
   },
   "outputs": [],
   "source": [
    "# Excel spreadsheet\n",
    "pub = ForegroundPublication(f, audit_cf=True)\n",
    "pub.publish(os.path.join(PUBLISH_PATH, 'potato-organic_doco.xls'), full=True)"
   ]
  }
 ],
 "metadata": {
  "kernelspec": {
   "display_name": "Python 3",
   "language": "python",
   "name": "python3"
  },
  "language_info": {
   "codemirror_mode": {
    "name": "ipython",
    "version": 3
   },
   "file_extension": ".py",
   "mimetype": "text/x-python",
   "name": "python",
   "nbconvert_exporter": "python",
   "pygments_lexer": "ipython3",
   "version": "3.6.0"
  }
 },
 "nbformat": 4,
 "nbformat_minor": 2
}
